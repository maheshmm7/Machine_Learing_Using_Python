{
 "cells": [
  {
   "cell_type": "code",
   "execution_count": 1,
   "id": "25864938",
   "metadata": {},
   "outputs": [],
   "source": [
    "import numpy as np\n",
    "import pandas as pd\n",
    "import seaborn as sns"
   ]
  },
  {
   "cell_type": "code",
   "execution_count": 2,
   "id": "ef4847ae",
   "metadata": {},
   "outputs": [],
   "source": [
    "df = pd.read_csv(\"M:\\\\ML\\\\Complete Machine Learning with Python\\\\Data Files\\\\2. ST Academy - Classification models resource files\\\\Classification preprocessed data Python.csv\", header=0)"
   ]
  },
  {
   "cell_type": "code",
   "execution_count": 3,
   "id": "22ce435b",
   "metadata": {},
   "outputs": [
    {
     "data": {
      "text/html": [
       "<div>\n",
       "<style scoped>\n",
       "    .dataframe tbody tr th:only-of-type {\n",
       "        vertical-align: middle;\n",
       "    }\n",
       "\n",
       "    .dataframe tbody tr th {\n",
       "        vertical-align: top;\n",
       "    }\n",
       "\n",
       "    .dataframe thead th {\n",
       "        text-align: right;\n",
       "    }\n",
       "</style>\n",
       "<table border=\"1\" class=\"dataframe\">\n",
       "  <thead>\n",
       "    <tr style=\"text-align: right;\">\n",
       "      <th></th>\n",
       "      <th>price</th>\n",
       "      <th>resid_area</th>\n",
       "      <th>air_qual</th>\n",
       "      <th>room_num</th>\n",
       "      <th>age</th>\n",
       "      <th>teachers</th>\n",
       "      <th>poor_prop</th>\n",
       "      <th>n_hos_beds</th>\n",
       "      <th>n_hot_rooms</th>\n",
       "      <th>rainfall</th>\n",
       "      <th>parks</th>\n",
       "      <th>Sold</th>\n",
       "      <th>avg_dist</th>\n",
       "      <th>airport_YES</th>\n",
       "      <th>waterbody_Lake</th>\n",
       "      <th>waterbody_Lake and River</th>\n",
       "      <th>waterbody_River</th>\n",
       "    </tr>\n",
       "  </thead>\n",
       "  <tbody>\n",
       "    <tr>\n",
       "      <th>0</th>\n",
       "      <td>24.0</td>\n",
       "      <td>32.31</td>\n",
       "      <td>0.538</td>\n",
       "      <td>6.575</td>\n",
       "      <td>65.2</td>\n",
       "      <td>24.7</td>\n",
       "      <td>4.98</td>\n",
       "      <td>5.480</td>\n",
       "      <td>11.19200</td>\n",
       "      <td>23</td>\n",
       "      <td>0.049347</td>\n",
       "      <td>0</td>\n",
       "      <td>4.0875</td>\n",
       "      <td>1</td>\n",
       "      <td>0</td>\n",
       "      <td>0</td>\n",
       "      <td>1</td>\n",
       "    </tr>\n",
       "    <tr>\n",
       "      <th>1</th>\n",
       "      <td>21.6</td>\n",
       "      <td>37.07</td>\n",
       "      <td>0.469</td>\n",
       "      <td>6.421</td>\n",
       "      <td>78.9</td>\n",
       "      <td>22.2</td>\n",
       "      <td>9.14</td>\n",
       "      <td>7.332</td>\n",
       "      <td>12.17280</td>\n",
       "      <td>42</td>\n",
       "      <td>0.046146</td>\n",
       "      <td>1</td>\n",
       "      <td>4.9675</td>\n",
       "      <td>0</td>\n",
       "      <td>1</td>\n",
       "      <td>0</td>\n",
       "      <td>0</td>\n",
       "    </tr>\n",
       "    <tr>\n",
       "      <th>2</th>\n",
       "      <td>34.7</td>\n",
       "      <td>37.07</td>\n",
       "      <td>0.469</td>\n",
       "      <td>7.185</td>\n",
       "      <td>61.1</td>\n",
       "      <td>22.2</td>\n",
       "      <td>4.03</td>\n",
       "      <td>7.394</td>\n",
       "      <td>46.19856</td>\n",
       "      <td>38</td>\n",
       "      <td>0.045764</td>\n",
       "      <td>0</td>\n",
       "      <td>4.9675</td>\n",
       "      <td>0</td>\n",
       "      <td>0</td>\n",
       "      <td>0</td>\n",
       "      <td>0</td>\n",
       "    </tr>\n",
       "    <tr>\n",
       "      <th>3</th>\n",
       "      <td>33.4</td>\n",
       "      <td>32.18</td>\n",
       "      <td>0.458</td>\n",
       "      <td>6.998</td>\n",
       "      <td>45.8</td>\n",
       "      <td>21.3</td>\n",
       "      <td>2.94</td>\n",
       "      <td>9.268</td>\n",
       "      <td>11.26720</td>\n",
       "      <td>45</td>\n",
       "      <td>0.047151</td>\n",
       "      <td>0</td>\n",
       "      <td>6.0650</td>\n",
       "      <td>1</td>\n",
       "      <td>1</td>\n",
       "      <td>0</td>\n",
       "      <td>0</td>\n",
       "    </tr>\n",
       "    <tr>\n",
       "      <th>4</th>\n",
       "      <td>36.2</td>\n",
       "      <td>32.18</td>\n",
       "      <td>0.458</td>\n",
       "      <td>7.147</td>\n",
       "      <td>54.2</td>\n",
       "      <td>21.3</td>\n",
       "      <td>5.33</td>\n",
       "      <td>8.824</td>\n",
       "      <td>11.28960</td>\n",
       "      <td>55</td>\n",
       "      <td>0.039474</td>\n",
       "      <td>0</td>\n",
       "      <td>6.0625</td>\n",
       "      <td>0</td>\n",
       "      <td>1</td>\n",
       "      <td>0</td>\n",
       "      <td>0</td>\n",
       "    </tr>\n",
       "  </tbody>\n",
       "</table>\n",
       "</div>"
      ],
      "text/plain": [
       "   price  resid_area  air_qual  room_num   age  teachers  poor_prop  \\\n",
       "0   24.0       32.31     0.538     6.575  65.2      24.7       4.98   \n",
       "1   21.6       37.07     0.469     6.421  78.9      22.2       9.14   \n",
       "2   34.7       37.07     0.469     7.185  61.1      22.2       4.03   \n",
       "3   33.4       32.18     0.458     6.998  45.8      21.3       2.94   \n",
       "4   36.2       32.18     0.458     7.147  54.2      21.3       5.33   \n",
       "\n",
       "   n_hos_beds  n_hot_rooms  rainfall     parks  Sold  avg_dist  airport_YES  \\\n",
       "0       5.480     11.19200        23  0.049347     0    4.0875            1   \n",
       "1       7.332     12.17280        42  0.046146     1    4.9675            0   \n",
       "2       7.394     46.19856        38  0.045764     0    4.9675            0   \n",
       "3       9.268     11.26720        45  0.047151     0    6.0650            1   \n",
       "4       8.824     11.28960        55  0.039474     0    6.0625            0   \n",
       "\n",
       "   waterbody_Lake  waterbody_Lake and River  waterbody_River  \n",
       "0               0                         0                1  \n",
       "1               1                         0                0  \n",
       "2               0                         0                0  \n",
       "3               1                         0                0  \n",
       "4               1                         0                0  "
      ]
     },
     "execution_count": 3,
     "metadata": {},
     "output_type": "execute_result"
    }
   ],
   "source": [
    "df.head()"
   ]
  },
  {
   "cell_type": "markdown",
   "id": "d4bad15d",
   "metadata": {},
   "source": [
    "## LOGISTIC REGRESSION"
   ]
  },
  {
   "cell_type": "code",
   "execution_count": 4,
   "id": "183c4371",
   "metadata": {},
   "outputs": [],
   "source": [
    "X = df[['price']]"
   ]
  },
  {
   "cell_type": "code",
   "execution_count": 5,
   "id": "ebdafdb0",
   "metadata": {},
   "outputs": [],
   "source": [
    "y = df['Sold']"
   ]
  },
  {
   "cell_type": "code",
   "execution_count": 6,
   "id": "d492abf4",
   "metadata": {},
   "outputs": [
    {
     "data": {
      "text/html": [
       "<div>\n",
       "<style scoped>\n",
       "    .dataframe tbody tr th:only-of-type {\n",
       "        vertical-align: middle;\n",
       "    }\n",
       "\n",
       "    .dataframe tbody tr th {\n",
       "        vertical-align: top;\n",
       "    }\n",
       "\n",
       "    .dataframe thead th {\n",
       "        text-align: right;\n",
       "    }\n",
       "</style>\n",
       "<table border=\"1\" class=\"dataframe\">\n",
       "  <thead>\n",
       "    <tr style=\"text-align: right;\">\n",
       "      <th></th>\n",
       "      <th>price</th>\n",
       "    </tr>\n",
       "  </thead>\n",
       "  <tbody>\n",
       "    <tr>\n",
       "      <th>0</th>\n",
       "      <td>24.0</td>\n",
       "    </tr>\n",
       "    <tr>\n",
       "      <th>1</th>\n",
       "      <td>21.6</td>\n",
       "    </tr>\n",
       "    <tr>\n",
       "      <th>2</th>\n",
       "      <td>34.7</td>\n",
       "    </tr>\n",
       "    <tr>\n",
       "      <th>3</th>\n",
       "      <td>33.4</td>\n",
       "    </tr>\n",
       "    <tr>\n",
       "      <th>4</th>\n",
       "      <td>36.2</td>\n",
       "    </tr>\n",
       "  </tbody>\n",
       "</table>\n",
       "</div>"
      ],
      "text/plain": [
       "   price\n",
       "0   24.0\n",
       "1   21.6\n",
       "2   34.7\n",
       "3   33.4\n",
       "4   36.2"
      ]
     },
     "execution_count": 6,
     "metadata": {},
     "output_type": "execute_result"
    }
   ],
   "source": [
    "X.head()"
   ]
  },
  {
   "cell_type": "code",
   "execution_count": 7,
   "id": "2602716e",
   "metadata": {},
   "outputs": [
    {
     "data": {
      "text/plain": [
       "0    0\n",
       "1    1\n",
       "2    0\n",
       "3    0\n",
       "4    0\n",
       "Name: Sold, dtype: int64"
      ]
     },
     "execution_count": 7,
     "metadata": {},
     "output_type": "execute_result"
    }
   ],
   "source": [
    "y.head()"
   ]
  },
  {
   "cell_type": "code",
   "execution_count": 8,
   "id": "1a9634b8",
   "metadata": {},
   "outputs": [],
   "source": [
    "from sklearn.linear_model import LogisticRegression"
   ]
  },
  {
   "cell_type": "code",
   "execution_count": 9,
   "id": "8a4e75b9",
   "metadata": {},
   "outputs": [],
   "source": [
    "clf_lrs = LogisticRegression()"
   ]
  },
  {
   "cell_type": "code",
   "execution_count": 10,
   "id": "7915a543",
   "metadata": {},
   "outputs": [
    {
     "data": {
      "text/plain": [
       "LogisticRegression()"
      ]
     },
     "execution_count": 10,
     "metadata": {},
     "output_type": "execute_result"
    }
   ],
   "source": [
    "#fitting the model\n",
    "clf_lrs.fit(X,y)"
   ]
  },
  {
   "cell_type": "code",
   "execution_count": 11,
   "id": "06aea4f2",
   "metadata": {},
   "outputs": [
    {
     "data": {
      "text/plain": [
       "array([[-0.03571865]])"
      ]
     },
     "execution_count": 11,
     "metadata": {},
     "output_type": "execute_result"
    }
   ],
   "source": [
    "#finding the coefficient\n",
    "clf_lrs.coef_"
   ]
  },
  {
   "cell_type": "code",
   "execution_count": 12,
   "id": "540c8cb5",
   "metadata": {},
   "outputs": [
    {
     "data": {
      "text/plain": [
       "array([0.61477516])"
      ]
     },
     "execution_count": 12,
     "metadata": {},
     "output_type": "execute_result"
    }
   ],
   "source": [
    "#finding the intercept\n",
    "clf_lrs.intercept_"
   ]
  },
  {
   "cell_type": "code",
   "execution_count": 13,
   "id": "ff1db7ed",
   "metadata": {},
   "outputs": [],
   "source": [
    "import statsmodels.api as sn"
   ]
  },
  {
   "cell_type": "code",
   "execution_count": 14,
   "id": "d1875012",
   "metadata": {},
   "outputs": [],
   "source": [
    "X_cons = sn.add_constant(X)"
   ]
  },
  {
   "cell_type": "code",
   "execution_count": 15,
   "id": "60378e97",
   "metadata": {},
   "outputs": [
    {
     "data": {
      "text/html": [
       "<div>\n",
       "<style scoped>\n",
       "    .dataframe tbody tr th:only-of-type {\n",
       "        vertical-align: middle;\n",
       "    }\n",
       "\n",
       "    .dataframe tbody tr th {\n",
       "        vertical-align: top;\n",
       "    }\n",
       "\n",
       "    .dataframe thead th {\n",
       "        text-align: right;\n",
       "    }\n",
       "</style>\n",
       "<table border=\"1\" class=\"dataframe\">\n",
       "  <thead>\n",
       "    <tr style=\"text-align: right;\">\n",
       "      <th></th>\n",
       "      <th>const</th>\n",
       "      <th>price</th>\n",
       "    </tr>\n",
       "  </thead>\n",
       "  <tbody>\n",
       "    <tr>\n",
       "      <th>0</th>\n",
       "      <td>1.0</td>\n",
       "      <td>24.0</td>\n",
       "    </tr>\n",
       "    <tr>\n",
       "      <th>1</th>\n",
       "      <td>1.0</td>\n",
       "      <td>21.6</td>\n",
       "    </tr>\n",
       "    <tr>\n",
       "      <th>2</th>\n",
       "      <td>1.0</td>\n",
       "      <td>34.7</td>\n",
       "    </tr>\n",
       "    <tr>\n",
       "      <th>3</th>\n",
       "      <td>1.0</td>\n",
       "      <td>33.4</td>\n",
       "    </tr>\n",
       "    <tr>\n",
       "      <th>4</th>\n",
       "      <td>1.0</td>\n",
       "      <td>36.2</td>\n",
       "    </tr>\n",
       "  </tbody>\n",
       "</table>\n",
       "</div>"
      ],
      "text/plain": [
       "   const  price\n",
       "0    1.0   24.0\n",
       "1    1.0   21.6\n",
       "2    1.0   34.7\n",
       "3    1.0   33.4\n",
       "4    1.0   36.2"
      ]
     },
     "execution_count": 15,
     "metadata": {},
     "output_type": "execute_result"
    }
   ],
   "source": [
    "X_cons.head()"
   ]
  },
  {
   "cell_type": "code",
   "execution_count": 16,
   "id": "6938e700",
   "metadata": {},
   "outputs": [],
   "source": [
    "import statsmodels.discrete.discrete_model as sm"
   ]
  },
  {
   "cell_type": "code",
   "execution_count": 17,
   "id": "784b09e7",
   "metadata": {},
   "outputs": [
    {
     "name": "stdout",
     "output_type": "stream",
     "text": [
      "Optimization terminated successfully.\n",
      "         Current function value: 0.676690\n",
      "         Iterations 5\n"
     ]
    }
   ],
   "source": [
    "# fitting the logistic regression model\n",
    "logit = sm.Logit(y, X_cons).fit()"
   ]
  },
  {
   "cell_type": "code",
   "execution_count": 18,
   "id": "dd26a6ae",
   "metadata": {},
   "outputs": [
    {
     "data": {
      "text/html": [
       "<table class=\"simpletable\">\n",
       "<caption>Logit Regression Results</caption>\n",
       "<tr>\n",
       "  <th>Dep. Variable:</th>         <td>Sold</td>       <th>  No. Observations:  </th>  <td>   506</td>  \n",
       "</tr>\n",
       "<tr>\n",
       "  <th>Model:</th>                 <td>Logit</td>      <th>  Df Residuals:      </th>  <td>   504</td>  \n",
       "</tr>\n",
       "<tr>\n",
       "  <th>Method:</th>                 <td>MLE</td>       <th>  Df Model:          </th>  <td>     1</td>  \n",
       "</tr>\n",
       "<tr>\n",
       "  <th>Date:</th>            <td>Tue, 25 Jul 2023</td> <th>  Pseudo R-squ.:     </th>  <td>0.01788</td> \n",
       "</tr>\n",
       "<tr>\n",
       "  <th>Time:</th>                <td>22:01:45</td>     <th>  Log-Likelihood:    </th> <td> -342.41</td> \n",
       "</tr>\n",
       "<tr>\n",
       "  <th>converged:</th>             <td>True</td>       <th>  LL-Null:           </th> <td> -348.64</td> \n",
       "</tr>\n",
       "<tr>\n",
       "  <th>Covariance Type:</th>     <td>nonrobust</td>    <th>  LLR p-value:       </th> <td>0.0004142</td>\n",
       "</tr>\n",
       "</table>\n",
       "<table class=\"simpletable\">\n",
       "<tr>\n",
       "    <td></td>       <th>coef</th>     <th>std err</th>      <th>z</th>      <th>P>|z|</th>  <th>[0.025</th>    <th>0.975]</th>  \n",
       "</tr>\n",
       "<tr>\n",
       "  <th>const</th> <td>    0.6149</td> <td>    0.248</td> <td>    2.484</td> <td> 0.013</td> <td>    0.130</td> <td>    1.100</td>\n",
       "</tr>\n",
       "<tr>\n",
       "  <th>price</th> <td>   -0.0357</td> <td>    0.010</td> <td>   -3.417</td> <td> 0.001</td> <td>   -0.056</td> <td>   -0.015</td>\n",
       "</tr>\n",
       "</table>"
      ],
      "text/plain": [
       "<class 'statsmodels.iolib.summary.Summary'>\n",
       "\"\"\"\n",
       "                           Logit Regression Results                           \n",
       "==============================================================================\n",
       "Dep. Variable:                   Sold   No. Observations:                  506\n",
       "Model:                          Logit   Df Residuals:                      504\n",
       "Method:                           MLE   Df Model:                            1\n",
       "Date:                Tue, 25 Jul 2023   Pseudo R-squ.:                 0.01788\n",
       "Time:                        22:01:45   Log-Likelihood:                -342.41\n",
       "converged:                       True   LL-Null:                       -348.64\n",
       "Covariance Type:            nonrobust   LLR p-value:                 0.0004142\n",
       "==============================================================================\n",
       "                 coef    std err          z      P>|z|      [0.025      0.975]\n",
       "------------------------------------------------------------------------------\n",
       "const          0.6149      0.248      2.484      0.013       0.130       1.100\n",
       "price         -0.0357      0.010     -3.417      0.001      -0.056      -0.015\n",
       "==============================================================================\n",
       "\"\"\""
      ]
     },
     "execution_count": 18,
     "metadata": {},
     "output_type": "execute_result"
    }
   ],
   "source": [
    "logit.summary()"
   ]
  },
  {
   "cell_type": "markdown",
   "id": "5abc1d92",
   "metadata": {},
   "source": [
    "### LOGISTIC WITH MULTIPLE PREDICTOR"
   ]
  },
  {
   "cell_type": "code",
   "execution_count": 19,
   "id": "0c7d22bb",
   "metadata": {},
   "outputs": [],
   "source": [
    "X = df.loc[:, df.columns != 'Sold']"
   ]
  },
  {
   "cell_type": "code",
   "execution_count": 20,
   "id": "5971ceb3",
   "metadata": {},
   "outputs": [],
   "source": [
    "y = df['Sold']"
   ]
  },
  {
   "cell_type": "code",
   "execution_count": 21,
   "id": "370a1471",
   "metadata": {},
   "outputs": [
    {
     "name": "stderr",
     "output_type": "stream",
     "text": [
      "C:\\Users\\RANGALA MAHESH\\anaconda3\\lib\\site-packages\\sklearn\\linear_model\\_logistic.py:814: ConvergenceWarning: lbfgs failed to converge (status=1):\n",
      "STOP: TOTAL NO. of ITERATIONS REACHED LIMIT.\n",
      "\n",
      "Increase the number of iterations (max_iter) or scale the data as shown in:\n",
      "    https://scikit-learn.org/stable/modules/preprocessing.html\n",
      "Please also refer to the documentation for alternative solver options:\n",
      "    https://scikit-learn.org/stable/modules/linear_model.html#logistic-regression\n",
      "  n_iter_i = _check_optimize_result(\n"
     ]
    },
    {
     "data": {
      "text/plain": [
       "LogisticRegression()"
      ]
     },
     "execution_count": 21,
     "metadata": {},
     "output_type": "execute_result"
    }
   ],
   "source": [
    "clf_lr = LogisticRegression()\n",
    "clf_lr.fit(X,y)"
   ]
  },
  {
   "cell_type": "code",
   "execution_count": 22,
   "id": "cb121432",
   "metadata": {},
   "outputs": [
    {
     "data": {
      "text/plain": [
       "array([[-0.24635274, -0.01729728, -0.11019194,  0.86257497, -0.00599849,\n",
       "         0.22820419, -0.21021248,  0.18007205, -0.09087449, -0.0070489 ,\n",
       "        -0.00499194, -0.3261136 , -0.10521032, -0.09486936, -0.01512301,\n",
       "         0.20179643]])"
      ]
     },
     "execution_count": 22,
     "metadata": {},
     "output_type": "execute_result"
    }
   ],
   "source": [
    "clf_lr.coef_"
   ]
  },
  {
   "cell_type": "code",
   "execution_count": 23,
   "id": "f23efa6c",
   "metadata": {},
   "outputs": [
    {
     "data": {
      "text/plain": [
       "array([0.01671181])"
      ]
     },
     "execution_count": 23,
     "metadata": {},
     "output_type": "execute_result"
    }
   ],
   "source": [
    "clf_lr.intercept_"
   ]
  },
  {
   "cell_type": "code",
   "execution_count": 24,
   "id": "0682206d",
   "metadata": {},
   "outputs": [],
   "source": [
    "X_cons = sn.add_constant(X)"
   ]
  },
  {
   "cell_type": "code",
   "execution_count": 25,
   "id": "1f910981",
   "metadata": {},
   "outputs": [
    {
     "name": "stdout",
     "output_type": "stream",
     "text": [
      "Optimization terminated successfully.\n",
      "         Current function value: 0.556433\n",
      "         Iterations 6\n"
     ]
    }
   ],
   "source": [
    "logit = sm.Logit(y, X_cons).fit()"
   ]
  },
  {
   "cell_type": "code",
   "execution_count": 26,
   "id": "3fc5bba9",
   "metadata": {},
   "outputs": [
    {
     "data": {
      "text/html": [
       "<table class=\"simpletable\">\n",
       "<caption>Logit Regression Results</caption>\n",
       "<tr>\n",
       "  <th>Dep. Variable:</th>         <td>Sold</td>       <th>  No. Observations:  </th>  <td>   506</td>  \n",
       "</tr>\n",
       "<tr>\n",
       "  <th>Model:</th>                 <td>Logit</td>      <th>  Df Residuals:      </th>  <td>   489</td>  \n",
       "</tr>\n",
       "<tr>\n",
       "  <th>Method:</th>                 <td>MLE</td>       <th>  Df Model:          </th>  <td>    16</td>  \n",
       "</tr>\n",
       "<tr>\n",
       "  <th>Date:</th>            <td>Tue, 25 Jul 2023</td> <th>  Pseudo R-squ.:     </th>  <td>0.1924</td>  \n",
       "</tr>\n",
       "<tr>\n",
       "  <th>Time:</th>                <td>22:01:45</td>     <th>  Log-Likelihood:    </th> <td> -281.56</td> \n",
       "</tr>\n",
       "<tr>\n",
       "  <th>converged:</th>             <td>True</td>       <th>  LL-Null:           </th> <td> -348.64</td> \n",
       "</tr>\n",
       "<tr>\n",
       "  <th>Covariance Type:</th>     <td>nonrobust</td>    <th>  LLR p-value:       </th> <td>9.930e-21</td>\n",
       "</tr>\n",
       "</table>\n",
       "<table class=\"simpletable\">\n",
       "<tr>\n",
       "              <td></td>                <th>coef</th>     <th>std err</th>      <th>z</th>      <th>P>|z|</th>  <th>[0.025</th>    <th>0.975]</th>  \n",
       "</tr>\n",
       "<tr>\n",
       "  <th>const</th>                    <td>   -2.1383</td> <td>    2.649</td> <td>   -0.807</td> <td> 0.420</td> <td>   -7.331</td> <td>    3.054</td>\n",
       "</tr>\n",
       "<tr>\n",
       "  <th>price</th>                    <td>   -0.2741</td> <td>    0.033</td> <td>   -8.313</td> <td> 0.000</td> <td>   -0.339</td> <td>   -0.209</td>\n",
       "</tr>\n",
       "<tr>\n",
       "  <th>resid_area</th>               <td>    0.0192</td> <td>    0.027</td> <td>    0.720</td> <td> 0.471</td> <td>   -0.033</td> <td>    0.071</td>\n",
       "</tr>\n",
       "<tr>\n",
       "  <th>air_qual</th>                 <td>   -7.4183</td> <td>    2.691</td> <td>   -2.757</td> <td> 0.006</td> <td>  -12.693</td> <td>   -2.144</td>\n",
       "</tr>\n",
       "<tr>\n",
       "  <th>room_num</th>                 <td>    1.1067</td> <td>    0.277</td> <td>    4.001</td> <td> 0.000</td> <td>    0.565</td> <td>    1.649</td>\n",
       "</tr>\n",
       "<tr>\n",
       "  <th>age</th>                      <td>   -0.0020</td> <td>    0.007</td> <td>   -0.302</td> <td> 0.762</td> <td>   -0.015</td> <td>    0.011</td>\n",
       "</tr>\n",
       "<tr>\n",
       "  <th>teachers</th>                 <td>    0.3150</td> <td>    0.064</td> <td>    4.937</td> <td> 0.000</td> <td>    0.190</td> <td>    0.440</td>\n",
       "</tr>\n",
       "<tr>\n",
       "  <th>poor_prop</th>                <td>   -0.2077</td> <td>    0.034</td> <td>   -6.149</td> <td> 0.000</td> <td>   -0.274</td> <td>   -0.141</td>\n",
       "</tr>\n",
       "<tr>\n",
       "  <th>n_hos_beds</th>               <td>    0.1760</td> <td>    0.071</td> <td>    2.467</td> <td> 0.014</td> <td>    0.036</td> <td>    0.316</td>\n",
       "</tr>\n",
       "<tr>\n",
       "  <th>n_hot_rooms</th>              <td>   -0.0742</td> <td>    0.052</td> <td>   -1.439</td> <td> 0.150</td> <td>   -0.175</td> <td>    0.027</td>\n",
       "</tr>\n",
       "<tr>\n",
       "  <th>rainfall</th>                 <td>   -0.0033</td> <td>    0.008</td> <td>   -0.394</td> <td> 0.693</td> <td>   -0.020</td> <td>    0.013</td>\n",
       "</tr>\n",
       "<tr>\n",
       "  <th>parks</th>                    <td>   29.1089</td> <td>   24.177</td> <td>    1.204</td> <td> 0.229</td> <td>  -18.277</td> <td>   76.495</td>\n",
       "</tr>\n",
       "<tr>\n",
       "  <th>avg_dist</th>                 <td>   -0.4017</td> <td>    0.098</td> <td>   -4.118</td> <td> 0.000</td> <td>   -0.593</td> <td>   -0.211</td>\n",
       "</tr>\n",
       "<tr>\n",
       "  <th>airport_YES</th>              <td>   -0.1524</td> <td>    0.211</td> <td>   -0.723</td> <td> 0.469</td> <td>   -0.565</td> <td>    0.261</td>\n",
       "</tr>\n",
       "<tr>\n",
       "  <th>waterbody_Lake</th>           <td>   -0.1032</td> <td>    0.304</td> <td>   -0.340</td> <td> 0.734</td> <td>   -0.698</td> <td>    0.492</td>\n",
       "</tr>\n",
       "<tr>\n",
       "  <th>waterbody_Lake and River</th> <td>   -0.0626</td> <td>    0.328</td> <td>   -0.191</td> <td> 0.849</td> <td>   -0.705</td> <td>    0.580</td>\n",
       "</tr>\n",
       "<tr>\n",
       "  <th>waterbody_River</th>          <td>    0.2394</td> <td>    0.256</td> <td>    0.937</td> <td> 0.349</td> <td>   -0.262</td> <td>    0.740</td>\n",
       "</tr>\n",
       "</table>"
      ],
      "text/plain": [
       "<class 'statsmodels.iolib.summary.Summary'>\n",
       "\"\"\"\n",
       "                           Logit Regression Results                           \n",
       "==============================================================================\n",
       "Dep. Variable:                   Sold   No. Observations:                  506\n",
       "Model:                          Logit   Df Residuals:                      489\n",
       "Method:                           MLE   Df Model:                           16\n",
       "Date:                Tue, 25 Jul 2023   Pseudo R-squ.:                  0.1924\n",
       "Time:                        22:01:45   Log-Likelihood:                -281.56\n",
       "converged:                       True   LL-Null:                       -348.64\n",
       "Covariance Type:            nonrobust   LLR p-value:                 9.930e-21\n",
       "============================================================================================\n",
       "                               coef    std err          z      P>|z|      [0.025      0.975]\n",
       "--------------------------------------------------------------------------------------------\n",
       "const                       -2.1383      2.649     -0.807      0.420      -7.331       3.054\n",
       "price                       -0.2741      0.033     -8.313      0.000      -0.339      -0.209\n",
       "resid_area                   0.0192      0.027      0.720      0.471      -0.033       0.071\n",
       "air_qual                    -7.4183      2.691     -2.757      0.006     -12.693      -2.144\n",
       "room_num                     1.1067      0.277      4.001      0.000       0.565       1.649\n",
       "age                         -0.0020      0.007     -0.302      0.762      -0.015       0.011\n",
       "teachers                     0.3150      0.064      4.937      0.000       0.190       0.440\n",
       "poor_prop                   -0.2077      0.034     -6.149      0.000      -0.274      -0.141\n",
       "n_hos_beds                   0.1760      0.071      2.467      0.014       0.036       0.316\n",
       "n_hot_rooms                 -0.0742      0.052     -1.439      0.150      -0.175       0.027\n",
       "rainfall                    -0.0033      0.008     -0.394      0.693      -0.020       0.013\n",
       "parks                       29.1089     24.177      1.204      0.229     -18.277      76.495\n",
       "avg_dist                    -0.4017      0.098     -4.118      0.000      -0.593      -0.211\n",
       "airport_YES                 -0.1524      0.211     -0.723      0.469      -0.565       0.261\n",
       "waterbody_Lake              -0.1032      0.304     -0.340      0.734      -0.698       0.492\n",
       "waterbody_Lake and River    -0.0626      0.328     -0.191      0.849      -0.705       0.580\n",
       "waterbody_River              0.2394      0.256      0.937      0.349      -0.262       0.740\n",
       "============================================================================================\n",
       "\"\"\""
      ]
     },
     "execution_count": 26,
     "metadata": {},
     "output_type": "execute_result"
    }
   ],
   "source": [
    "logit.summary()"
   ]
  },
  {
   "cell_type": "markdown",
   "id": "0230cacf",
   "metadata": {},
   "source": [
    "###  PREDICTING AND CONFUSION MATRIX"
   ]
  },
  {
   "cell_type": "code",
   "execution_count": 27,
   "id": "fa89e806",
   "metadata": {},
   "outputs": [
    {
     "data": {
      "text/plain": [
       "array([[0.12706583, 0.87293417],\n",
       "       [0.39755228, 0.60244772],\n",
       "       [0.98072385, 0.01927615],\n",
       "       ...,\n",
       "       [0.28595354, 0.71404646],\n",
       "       [0.28062859, 0.71937141],\n",
       "       [0.16347382, 0.83652618]])"
      ]
     },
     "execution_count": 27,
     "metadata": {},
     "output_type": "execute_result"
    }
   ],
   "source": [
    "clf_lr.predict_proba(X)"
   ]
  },
  {
   "cell_type": "code",
   "execution_count": 28,
   "id": "773afb90",
   "metadata": {},
   "outputs": [
    {
     "data": {
      "text/plain": [
       "array([1, 1, 0, 0, 0, 0, 0, 0, 0, 0, 0, 1, 0, 0, 1, 1, 0, 0, 0, 1, 0, 0,\n",
       "       0, 0, 0, 0, 0, 0, 0, 1, 0, 1, 0, 0, 0, 1, 1, 1, 1, 0, 0, 1, 1, 0,\n",
       "       1, 1, 0, 0, 0, 0, 0, 1, 1, 1, 0, 0, 0, 0, 0, 0, 0, 0, 0, 0, 0, 1,\n",
       "       1, 0, 0, 0, 1, 1, 1, 0, 1, 1, 1, 1, 0, 1, 0, 0, 1, 1, 0, 1, 0, 1,\n",
       "       1, 1, 1, 1, 1, 1, 1, 1, 1, 0, 0, 0, 0, 1, 1, 0, 1, 0, 0, 0, 1, 0,\n",
       "       0, 1, 0, 1, 1, 1, 1, 1, 0, 1, 0, 1, 0, 0, 0, 0, 0, 0, 0, 0, 1, 1,\n",
       "       0, 0, 0, 0, 1, 1, 0, 0, 0, 0, 0, 0, 0, 0, 1, 0, 0, 1, 1, 1, 1, 1,\n",
       "       1, 1, 1, 0, 1, 1, 1, 0, 0, 0, 1, 1, 0, 1, 1, 1, 1, 1, 0, 1, 1, 1,\n",
       "       1, 1, 1, 0, 0, 0, 0, 0, 0, 0, 0, 1, 1, 1, 0, 1, 0, 1, 1, 0, 0, 0,\n",
       "       0, 0, 0, 1, 0, 0, 0, 0, 0, 0, 0, 0, 0, 0, 0, 0, 0, 0, 0, 0, 0, 1,\n",
       "       1, 0, 1, 1, 0, 0, 0, 1, 0, 0, 0, 1, 0, 0, 1, 0, 1, 1, 1, 1, 0, 0,\n",
       "       0, 1, 0, 0, 0, 0, 0, 0, 0, 1, 0, 0, 0, 0, 0, 0, 0, 1, 1, 0, 0, 1,\n",
       "       0, 1, 0, 0, 0, 1, 0, 1, 1, 0, 1, 1, 0, 0, 0, 1, 0, 0, 0, 0, 0, 1,\n",
       "       0, 1, 1, 0, 1, 0, 1, 1, 1, 1, 1, 0, 1, 1, 1, 1, 1, 0, 0, 0, 1, 1,\n",
       "       1, 1, 1, 1, 1, 1, 1, 1, 0, 0, 0, 1, 1, 1, 1, 0, 1, 1, 1, 0, 1, 1,\n",
       "       1, 1, 1, 1, 0, 0, 1, 1, 1, 1, 1, 0, 1, 1, 1, 0, 0, 0, 0, 0, 0, 0,\n",
       "       0, 0, 0, 0, 0, 0, 0, 0, 1, 0, 0, 1, 1, 0, 0, 0, 0, 0, 0, 0, 0, 0,\n",
       "       0, 1, 1, 1, 0, 1, 1, 1, 0, 0, 0, 0, 0, 0, 0, 0, 1, 0, 0, 1, 1, 1,\n",
       "       1, 1, 0, 0, 1, 1, 1, 1, 0, 1, 0, 0, 0, 0, 1, 0, 0, 0, 0, 1, 1, 0,\n",
       "       1, 1, 1, 1, 0, 0, 1, 0, 1, 1, 1, 1, 1, 1, 1, 1, 1, 1, 1, 1, 0, 0,\n",
       "       1, 0, 1, 1, 0, 0, 1, 1, 1, 1, 1, 1, 0, 1, 1, 1, 1, 1, 1, 0, 1, 1,\n",
       "       0, 1, 0, 0, 0, 0, 0, 0, 0, 0, 0, 0, 1, 0, 0, 0, 0, 0, 0, 1, 1, 0,\n",
       "       0, 1, 0, 1, 0, 1, 0, 0, 0, 0, 0, 0, 0, 0, 0, 1, 1, 1, 1, 1, 1, 1],\n",
       "      dtype=int64)"
      ]
     },
     "execution_count": 28,
     "metadata": {},
     "output_type": "execute_result"
    }
   ],
   "source": [
    "y_pred = clf_lr.predict(X)\n",
    "y_pred"
   ]
  },
  {
   "cell_type": "code",
   "execution_count": 29,
   "id": "f1f7fcf6",
   "metadata": {},
   "outputs": [],
   "source": [
    "y_pred_03 = (clf_lr.predict_proba(X)[:,1]>=0.3)"
   ]
  },
  {
   "cell_type": "code",
   "execution_count": 30,
   "id": "0e1ef046",
   "metadata": {},
   "outputs": [
    {
     "data": {
      "text/plain": [
       "array([ True,  True, False,  True, False, False,  True, False, False,\n",
       "        True,  True,  True, False,  True,  True,  True,  True, False,\n",
       "        True,  True, False,  True, False, False,  True,  True,  True,\n",
       "        True,  True,  True, False,  True, False,  True,  True,  True,\n",
       "        True,  True,  True,  True,  True,  True,  True,  True,  True,\n",
       "        True,  True, False, False, False,  True,  True,  True,  True,\n",
       "       False, False, False, False,  True,  True,  True, False,  True,\n",
       "       False, False,  True,  True,  True,  True,  True,  True,  True,\n",
       "        True,  True,  True,  True,  True,  True,  True,  True,  True,\n",
       "        True,  True,  True,  True,  True,  True,  True,  True,  True,\n",
       "        True,  True,  True,  True,  True,  True,  True, False, False,\n",
       "        True,  True,  True,  True,  True,  True, False, False, False,\n",
       "        True,  True,  True,  True,  True,  True,  True,  True,  True,\n",
       "        True,  True,  True,  True,  True, False, False, False,  True,\n",
       "       False, False,  True,  True,  True,  True,  True,  True,  True,\n",
       "        True,  True,  True,  True,  True, False, False, False, False,\n",
       "       False,  True,  True, False, False,  True,  True,  True,  True,\n",
       "        True,  True,  True,  True, False,  True,  True,  True, False,\n",
       "       False, False,  True,  True, False,  True,  True,  True,  True,\n",
       "        True,  True,  True,  True,  True,  True,  True,  True,  True,\n",
       "       False, False, False, False, False, False, False,  True,  True,\n",
       "        True,  True,  True,  True,  True,  True, False,  True,  True,\n",
       "        True, False, False,  True, False, False, False,  True,  True,\n",
       "       False, False, False, False, False, False,  True, False,  True,\n",
       "        True,  True, False,  True,  True, False,  True,  True, False,\n",
       "       False,  True,  True, False,  True,  True,  True,  True, False,\n",
       "        True,  True,  True,  True,  True,  True,  True,  True,  True,\n",
       "        True, False, False, False,  True, False,  True,  True,  True,\n",
       "        True, False,  True,  True, False, False,  True,  True,  True,\n",
       "       False, False,  True,  True,  True,  True, False,  True,  True,\n",
       "       False,  True,  True, False,  True,  True,  True,  True,  True,\n",
       "        True, False,  True, False, False, False,  True, False,  True,\n",
       "        True,  True,  True, False,  True,  True,  True,  True,  True,\n",
       "       False,  True,  True,  True,  True,  True,  True, False,  True,\n",
       "        True,  True,  True,  True,  True,  True,  True,  True,  True,\n",
       "        True,  True,  True,  True,  True,  True,  True,  True,  True,\n",
       "        True,  True,  True, False,  True,  True,  True,  True,  True,\n",
       "        True,  True,  True,  True,  True,  True,  True,  True, False,\n",
       "        True,  True,  True,  True,  True,  True,  True, False,  True,\n",
       "       False,  True, False, False, False, False,  True, False,  True,\n",
       "        True,  True,  True,  True,  True, False, False, False, False,\n",
       "       False, False, False, False, False, False,  True,  True,  True,\n",
       "        True,  True,  True,  True,  True, False, False,  True, False,\n",
       "       False, False,  True,  True, False, False,  True,  True,  True,\n",
       "        True,  True,  True,  True,  True,  True,  True,  True,  True,\n",
       "        True, False, False, False, False,  True,  True, False, False,\n",
       "       False,  True,  True, False,  True,  True,  True,  True,  True,\n",
       "       False,  True,  True,  True,  True,  True,  True,  True,  True,\n",
       "        True,  True,  True,  True,  True,  True, False, False,  True,\n",
       "        True,  True,  True,  True,  True,  True,  True,  True,  True,\n",
       "        True,  True,  True,  True,  True,  True,  True,  True,  True,\n",
       "       False,  True,  True,  True,  True,  True,  True,  True, False,\n",
       "       False, False, False,  True, False, False,  True,  True,  True,\n",
       "       False,  True,  True,  True,  True,  True,  True,  True,  True,\n",
       "        True,  True, False,  True, False,  True,  True,  True,  True,\n",
       "       False, False,  True,  True,  True,  True,  True,  True,  True,\n",
       "        True,  True])"
      ]
     },
     "execution_count": 30,
     "metadata": {},
     "output_type": "execute_result"
    }
   ],
   "source": [
    "  y_pred_03"
   ]
  },
  {
   "cell_type": "code",
   "execution_count": 31,
   "id": "b7c9eabd",
   "metadata": {},
   "outputs": [
    {
     "data": {
      "text/plain": [
       "array([[196,  80],\n",
       "       [ 81, 149]], dtype=int64)"
      ]
     },
     "execution_count": 31,
     "metadata": {},
     "output_type": "execute_result"
    }
   ],
   "source": [
    "from sklearn.metrics import confusion_matrix\n",
    "confusion_matrix(y, y_pred)"
   ]
  },
  {
   "cell_type": "code",
   "execution_count": 32,
   "id": "040474ff",
   "metadata": {},
   "outputs": [
    {
     "data": {
      "text/plain": [
       "array([[121, 155],\n",
       "       [ 18, 212]], dtype=int64)"
      ]
     },
     "execution_count": 32,
     "metadata": {},
     "output_type": "execute_result"
    }
   ],
   "source": [
    "confusion_matrix(y, y_pred_03)"
   ]
  },
  {
   "cell_type": "markdown",
   "id": "57bd3465",
   "metadata": {},
   "source": [
    "### PERFORMANCE MATRIX"
   ]
  },
  {
   "cell_type": "code",
   "execution_count": 33,
   "id": "c244c5b2",
   "metadata": {},
   "outputs": [],
   "source": [
    "from sklearn.metrics import precision_score, recall_score"
   ]
  },
  {
   "cell_type": "code",
   "execution_count": 34,
   "id": "f28992eb",
   "metadata": {},
   "outputs": [
    {
     "data": {
      "text/plain": [
       "0.6506550218340611"
      ]
     },
     "execution_count": 34,
     "metadata": {},
     "output_type": "execute_result"
    }
   ],
   "source": [
    "precision_score(y, y_pred)"
   ]
  },
  {
   "cell_type": "code",
   "execution_count": 35,
   "id": "ebf88cf4",
   "metadata": {},
   "outputs": [
    {
     "data": {
      "text/plain": [
       "0.6478260869565218"
      ]
     },
     "execution_count": 35,
     "metadata": {},
     "output_type": "execute_result"
    }
   ],
   "source": [
    "recall_score(y, y_pred)"
   ]
  },
  {
   "cell_type": "code",
   "execution_count": 36,
   "id": "4e1135df",
   "metadata": {},
   "outputs": [],
   "source": [
    "from sklearn.metrics import roc_auc_score"
   ]
  },
  {
   "cell_type": "code",
   "execution_count": 37,
   "id": "1d0d8dd6",
   "metadata": {},
   "outputs": [
    {
     "data": {
      "text/plain": [
       "0.6789855072463769"
      ]
     },
     "execution_count": 37,
     "metadata": {},
     "output_type": "execute_result"
    }
   ],
   "source": [
    "roc_auc_score(y, y_pred)"
   ]
  },
  {
   "cell_type": "markdown",
   "id": "1329f7a0",
   "metadata": {},
   "source": [
    "### LINEAR DISCRIMINANT ANALYSIS  "
   ]
  },
  {
   "cell_type": "code",
   "execution_count": 38,
   "id": "9fd399b4",
   "metadata": {},
   "outputs": [],
   "source": [
    "from sklearn.discriminant_analysis import LinearDiscriminantAnalysis"
   ]
  },
  {
   "cell_type": "code",
   "execution_count": 39,
   "id": "0be538f2",
   "metadata": {},
   "outputs": [],
   "source": [
    "clf_lda = LinearDiscriminantAnalysis()"
   ]
  },
  {
   "cell_type": "code",
   "execution_count": 40,
   "id": "8fa771a8",
   "metadata": {},
   "outputs": [
    {
     "data": {
      "text/plain": [
       "LinearDiscriminantAnalysis()"
      ]
     },
     "execution_count": 40,
     "metadata": {},
     "output_type": "execute_result"
    }
   ],
   "source": [
    "clf_lda.fit(X, y)"
   ]
  },
  {
   "cell_type": "code",
   "execution_count": 41,
   "id": "ee1a5300",
   "metadata": {},
   "outputs": [],
   "source": [
    "y_pred_lda = clf_lda.predict(X)"
   ]
  },
  {
   "cell_type": "code",
   "execution_count": 42,
   "id": "4633fa2e",
   "metadata": {},
   "outputs": [
    {
     "data": {
      "text/plain": [
       "array([1, 1, 0, 0, 0, 0, 0, 0, 0, 0, 0, 1, 0, 0, 1, 1, 0, 0, 0, 1, 0, 0,\n",
       "       0, 0, 0, 0, 0, 0, 0, 0, 0, 1, 0, 0, 0, 1, 1, 1, 0, 0, 0, 1, 1, 0,\n",
       "       1, 1, 0, 0, 0, 0, 0, 1, 1, 1, 0, 0, 0, 0, 0, 0, 0, 0, 0, 0, 0, 1,\n",
       "       1, 0, 1, 0, 1, 1, 1, 0, 1, 1, 1, 1, 0, 1, 0, 0, 1, 0, 0, 1, 0, 1,\n",
       "       1, 1, 1, 1, 1, 1, 1, 1, 1, 0, 0, 1, 0, 0, 1, 0, 1, 0, 0, 0, 1, 1,\n",
       "       0, 1, 1, 1, 1, 1, 1, 1, 1, 1, 1, 1, 1, 0, 1, 1, 0, 0, 1, 0, 1, 1,\n",
       "       0, 0, 1, 1, 1, 1, 1, 0, 0, 0, 0, 0, 0, 0, 1, 0, 0, 0, 1, 1, 1, 0,\n",
       "       1, 1, 1, 0, 1, 1, 1, 0, 0, 0, 1, 1, 0, 1, 1, 1, 1, 1, 1, 1, 1, 1,\n",
       "       1, 1, 1, 0, 0, 0, 0, 0, 0, 0, 0, 1, 1, 1, 0, 1, 0, 1, 1, 0, 0, 0,\n",
       "       0, 0, 0, 1, 0, 0, 0, 1, 0, 0, 0, 0, 0, 0, 0, 0, 0, 0, 0, 1, 0, 1,\n",
       "       1, 0, 1, 1, 0, 0, 0, 1, 0, 0, 0, 1, 0, 0, 1, 1, 1, 1, 1, 1, 0, 1,\n",
       "       0, 1, 0, 0, 0, 1, 0, 0, 0, 1, 0, 0, 0, 0, 0, 0, 0, 1, 1, 0, 0, 0,\n",
       "       0, 1, 0, 0, 0, 1, 0, 1, 1, 0, 1, 1, 0, 0, 1, 1, 0, 0, 0, 0, 0, 1,\n",
       "       0, 1, 1, 0, 1, 0, 1, 1, 1, 1, 1, 0, 1, 1, 1, 1, 0, 1, 0, 0, 1, 1,\n",
       "       1, 1, 1, 1, 1, 1, 1, 1, 0, 0, 0, 1, 1, 0, 1, 0, 1, 0, 1, 0, 1, 1,\n",
       "       1, 1, 1, 1, 0, 0, 0, 1, 1, 0, 0, 0, 1, 1, 1, 0, 0, 0, 0, 0, 0, 0,\n",
       "       0, 0, 0, 0, 0, 0, 0, 0, 0, 0, 0, 0, 1, 0, 0, 0, 0, 0, 0, 0, 0, 0,\n",
       "       0, 1, 1, 1, 0, 1, 1, 1, 0, 0, 0, 0, 0, 0, 0, 0, 1, 0, 0, 1, 1, 1,\n",
       "       1, 1, 0, 0, 1, 1, 1, 1, 0, 1, 0, 0, 0, 0, 1, 1, 0, 0, 0, 1, 1, 0,\n",
       "       1, 1, 0, 1, 0, 0, 1, 0, 1, 1, 1, 1, 1, 1, 1, 1, 1, 1, 1, 1, 0, 0,\n",
       "       1, 0, 1, 0, 0, 0, 1, 1, 1, 1, 1, 1, 0, 1, 0, 1, 0, 1, 0, 0, 1, 1,\n",
       "       0, 1, 0, 0, 0, 0, 0, 0, 0, 1, 0, 0, 1, 1, 0, 0, 0, 1, 1, 1, 1, 0,\n",
       "       0, 0, 0, 1, 0, 1, 0, 1, 1, 0, 0, 0, 0, 0, 0, 1, 0, 1, 1, 1, 1, 1],\n",
       "      dtype=int64)"
      ]
     },
     "execution_count": 42,
     "metadata": {},
     "output_type": "execute_result"
    }
   ],
   "source": [
    "y_pred_lda"
   ]
  },
  {
   "cell_type": "code",
   "execution_count": 43,
   "id": "515f1370",
   "metadata": {},
   "outputs": [
    {
     "data": {
      "text/plain": [
       "array([[192,  84],\n",
       "       [ 79, 151]], dtype=int64)"
      ]
     },
     "execution_count": 43,
     "metadata": {},
     "output_type": "execute_result"
    }
   ],
   "source": [
    "confusion_matrix(y, y_pred_lda)"
   ]
  },
  {
   "cell_type": "code",
   "execution_count": 44,
   "id": "84e0d902",
   "metadata": {},
   "outputs": [],
   "source": [
    "from sklearn.model_selection import train_test_split"
   ]
  },
  {
   "cell_type": "code",
   "execution_count": 45,
   "id": "40824807",
   "metadata": {
    "scrolled": false
   },
   "outputs": [
    {
     "name": "stdout",
     "output_type": "stream",
     "text": [
      "[[-0.24635274 -0.01729728 -0.11019194  0.86257497 -0.00599849  0.22820419\n",
      "  -0.21021248  0.18007205 -0.09087449 -0.0070489  -0.00499194 -0.3261136\n",
      "  -0.10521032 -0.09486936 -0.01512301  0.20179643]]\n",
      "[0.01671181]\n"
     ]
    }
   ],
   "source": [
    "print(clf_lr.coef_)\n",
    "print(clf_lr.intercept_)"
   ]
  },
  {
   "cell_type": "code",
   "execution_count": null,
   "id": "fc306266",
   "metadata": {},
   "outputs": [],
   "source": []
  },
  {
   "cell_type": "code",
   "execution_count": 46,
   "id": "d4e10b1f",
   "metadata": {},
   "outputs": [],
   "source": [
    "from sklearn.model_selection import train_test_split"
   ]
  },
  {
   "cell_type": "code",
   "execution_count": 47,
   "id": "5918cea8",
   "metadata": {},
   "outputs": [],
   "source": [
    "X_train, X_test, y_train, y_test = train_test_split(X, y, test_size=0.2, random_state=0)"
   ]
  },
  {
   "cell_type": "code",
   "execution_count": 48,
   "id": "3675445a",
   "metadata": {},
   "outputs": [
    {
     "name": "stdout",
     "output_type": "stream",
     "text": [
      "(404, 16) (102, 16) (404,) (102,)\n"
     ]
    }
   ],
   "source": [
    "print (X_train.shape,X_test.shape,y_train.shape, y_test.shape)"
   ]
  },
  {
   "cell_type": "code",
   "execution_count": 49,
   "id": "f5245b34",
   "metadata": {},
   "outputs": [
    {
     "name": "stderr",
     "output_type": "stream",
     "text": [
      "C:\\Users\\RANGALA MAHESH\\anaconda3\\lib\\site-packages\\sklearn\\linear_model\\_logistic.py:814: ConvergenceWarning: lbfgs failed to converge (status=1):\n",
      "STOP: TOTAL NO. of ITERATIONS REACHED LIMIT.\n",
      "\n",
      "Increase the number of iterations (max_iter) or scale the data as shown in:\n",
      "    https://scikit-learn.org/stable/modules/preprocessing.html\n",
      "Please also refer to the documentation for alternative solver options:\n",
      "    https://scikit-learn.org/stable/modules/linear_model.html#logistic-regression\n",
      "  n_iter_i = _check_optimize_result(\n"
     ]
    },
    {
     "data": {
      "text/plain": [
       "LogisticRegression()"
      ]
     },
     "execution_count": 49,
     "metadata": {},
     "output_type": "execute_result"
    }
   ],
   "source": [
    "clf_LR = LogisticRegression()\n",
    "clf_LR.fit(X_train,y_train)"
   ]
  },
  {
   "cell_type": "code",
   "execution_count": 50,
   "id": "f2fbf48a",
   "metadata": {},
   "outputs": [],
   "source": [
    "y_test_pred = clf_LR.predict(X_test)"
   ]
  },
  {
   "cell_type": "code",
   "execution_count": 51,
   "id": "38842006",
   "metadata": {},
   "outputs": [],
   "source": [
    "from sklearn.metrics import accuracy_score, confusion_matrix"
   ]
  },
  {
   "cell_type": "code",
   "execution_count": 52,
   "id": "4363bda3",
   "metadata": {},
   "outputs": [
    {
     "data": {
      "text/plain": [
       "array([[37, 21],\n",
       "       [14, 30]], dtype=int64)"
      ]
     },
     "execution_count": 52,
     "metadata": {},
     "output_type": "execute_result"
    }
   ],
   "source": [
    "confusion_matrix(y_test, y_test_pred)"
   ]
  },
  {
   "cell_type": "code",
   "execution_count": 53,
   "id": "3fad8c22",
   "metadata": {},
   "outputs": [
    {
     "data": {
      "text/plain": [
       "0.6568627450980392"
      ]
     },
     "execution_count": 53,
     "metadata": {},
     "output_type": "execute_result"
    }
   ],
   "source": [
    "accuracy_score(y_test, y_test_pred)"
   ]
  },
  {
   "cell_type": "markdown",
   "id": "d5e2795b",
   "metadata": {},
   "source": [
    "## K-NEAREST NEIGHBORS"
   ]
  },
  {
   "cell_type": "code",
   "execution_count": 54,
   "id": "3d027417",
   "metadata": {},
   "outputs": [],
   "source": [
    "from sklearn import preprocessing\n",
    "scaler = preprocessing.StandardScaler().fit(X_train)\n",
    "X_train_s= scaler.transform(X_train)"
   ]
  },
  {
   "cell_type": "code",
   "execution_count": 55,
   "id": "f2c87a9d",
   "metadata": {},
   "outputs": [],
   "source": [
    "scaler = preprocessing.StandardScaler().fit(X_test)\n",
    "X_test_s= scaler.transform(X_test)"
   ]
  },
  {
   "cell_type": "code",
   "execution_count": 56,
   "id": "3d937bae",
   "metadata": {},
   "outputs": [
    {
     "data": {
      "text/plain": [
       "array([[ 3.46427198e-02, -1.26009787e+00, -7.59976330e-01, ...,\n",
       "        -4.93864798e-01, -3.98862018e-01, -7.54473836e-01],\n",
       "       [ 3.08888478e+00,  1.09537107e+00,  6.84309089e-01, ...,\n",
       "        -4.93864798e-01, -3.98862018e-01, -7.54473836e-01],\n",
       "       [ 7.92301952e-02,  4.28041039e-01,  1.73890573e-04, ...,\n",
       "        -4.93864798e-01, -3.98862018e-01, -7.54473836e-01],\n",
       "       ...,\n",
       "       [-4.00085165e-01, -9.60512654e-01, -8.19099125e-01, ...,\n",
       "        -4.93864798e-01, -3.98862018e-01,  1.32542701e+00],\n",
       "       [ 6.47720506e-01, -9.50442563e-02, -5.15039037e-01, ...,\n",
       "        -4.93864798e-01, -3.98862018e-01, -7.54473836e-01],\n",
       "       [-2.77469608e-01, -4.16820968e-01, -2.53209516e-01, ...,\n",
       "        -4.93864798e-01,  2.50713268e+00, -7.54473836e-01]])"
      ]
     },
     "execution_count": 56,
     "metadata": {},
     "output_type": "execute_result"
    }
   ],
   "source": [
    "X_test_s"
   ]
  },
  {
   "cell_type": "code",
   "execution_count": 57,
   "id": "cacd95e8",
   "metadata": {},
   "outputs": [
    {
     "data": {
      "text/plain": [
       "KNeighborsClassifier(n_neighbors=1)"
      ]
     },
     "execution_count": 57,
     "metadata": {},
     "output_type": "execute_result"
    }
   ],
   "source": [
    "from sklearn.neighbors import KNeighborsClassifier\n",
    "clf_knn_1 = KNeighborsClassifier(n_neighbors=1)\n",
    "clf_knn_1.fit(X_train_s, y_train) "
   ]
  },
  {
   "cell_type": "code",
   "execution_count": 58,
   "id": "60b147c1",
   "metadata": {},
   "outputs": [
    {
     "data": {
      "text/plain": [
       "array([[30, 28],\n",
       "       [19, 25]], dtype=int64)"
      ]
     },
     "execution_count": 58,
     "metadata": {},
     "output_type": "execute_result"
    }
   ],
   "source": [
    "confusion_matrix(y_test, clf_knn_1.predict(X_test_s))"
   ]
  },
  {
   "cell_type": "code",
   "execution_count": 59,
   "id": "8eb6c8a6",
   "metadata": {},
   "outputs": [
    {
     "data": {
      "text/plain": [
       "0.5392156862745098"
      ]
     },
     "execution_count": 59,
     "metadata": {},
     "output_type": "execute_result"
    }
   ],
   "source": [
    "accuracy_score(y_test, clf_knn_1.predict(X_test_s))"
   ]
  },
  {
   "cell_type": "code",
   "execution_count": 60,
   "id": "37cf01e8",
   "metadata": {},
   "outputs": [
    {
     "data": {
      "text/plain": [
       "0.5392156862745098"
      ]
     },
     "execution_count": 60,
     "metadata": {},
     "output_type": "execute_result"
    }
   ],
   "source": [
    "clf_knn_3 = KNeighborsClassifier(n_neighbors=3)\n",
    "clf_knn_3.fit(X_train_s, y_train)\n",
    "accuracy_score(y_test, clf_knn_3.predict(X_test_s))"
   ]
  },
  {
   "cell_type": "code",
   "execution_count": 61,
   "id": "137efe25",
   "metadata": {},
   "outputs": [],
   "source": [
    "from sklearn.model_selection import GridSearchCV"
   ]
  },
  {
   "cell_type": "code",
   "execution_count": 62,
   "id": "64811900",
   "metadata": {},
   "outputs": [],
   "source": [
    "params = {'n_neighbors':[1,2,3,4,5,6,7,8,9,10]}"
   ]
  },
  {
   "cell_type": "code",
   "execution_count": 63,
   "id": "ecfc818e",
   "metadata": {},
   "outputs": [],
   "source": [
    " grid_search_cv = GridSearchCV(KNeighborsClassifier(), params)"
   ]
  },
  {
   "cell_type": "code",
   "execution_count": 64,
   "id": "46f09a29",
   "metadata": {},
   "outputs": [
    {
     "data": {
      "text/plain": [
       "GridSearchCV(estimator=KNeighborsClassifier(),\n",
       "             param_grid={'n_neighbors': [1, 2, 3, 4, 5, 6, 7, 8, 9, 10]})"
      ]
     },
     "execution_count": 64,
     "metadata": {},
     "output_type": "execute_result"
    }
   ],
   "source": [
    "grid_search_cv.fit(X_train_s, y_train)"
   ]
  },
  {
   "cell_type": "code",
   "execution_count": 65,
   "id": "4ab71536",
   "metadata": {},
   "outputs": [
    {
     "data": {
      "text/plain": [
       "{'n_neighbors': 9}"
      ]
     },
     "execution_count": 65,
     "metadata": {},
     "output_type": "execute_result"
    }
   ],
   "source": [
    "grid_search_cv.best_params_"
   ]
  },
  {
   "cell_type": "code",
   "execution_count": 66,
   "id": "16be0aab",
   "metadata": {},
   "outputs": [],
   "source": [
    "optimised_KNN = grid_search_cv.best_estimator_"
   ]
  },
  {
   "cell_type": "code",
   "execution_count": 67,
   "id": "89db7df5",
   "metadata": {},
   "outputs": [],
   "source": [
    "y_test_pred = optimised_KNN.predict(X_test_s)"
   ]
  },
  {
   "cell_type": "code",
   "execution_count": 68,
   "id": "49b67abc",
   "metadata": {},
   "outputs": [
    {
     "data": {
      "text/plain": [
       "array([[36, 22],\n",
       "       [18, 26]], dtype=int64)"
      ]
     },
     "execution_count": 68,
     "metadata": {},
     "output_type": "execute_result"
    }
   ],
   "source": [
    "confusion_matrix(y_test, y_test_pred)"
   ]
  },
  {
   "cell_type": "code",
   "execution_count": 69,
   "id": "72c3f083",
   "metadata": {},
   "outputs": [
    {
     "data": {
      "text/plain": [
       "0.6078431372549019"
      ]
     },
     "execution_count": 69,
     "metadata": {},
     "output_type": "execute_result"
    }
   ],
   "source": [
    "accuracy_score(y_test, y_test_pred)"
   ]
  },
  {
   "cell_type": "code",
   "execution_count": null,
   "id": "b86b711a",
   "metadata": {},
   "outputs": [],
   "source": []
  }
 ],
 "metadata": {
  "kernelspec": {
   "display_name": "Python 3 (ipykernel)",
   "language": "python",
   "name": "python3"
  },
  "language_info": {
   "codemirror_mode": {
    "name": "ipython",
    "version": 3
   },
   "file_extension": ".py",
   "mimetype": "text/x-python",
   "name": "python",
   "nbconvert_exporter": "python",
   "pygments_lexer": "ipython3",
   "version": "3.9.12"
  }
 },
 "nbformat": 4,
 "nbformat_minor": 5
}
