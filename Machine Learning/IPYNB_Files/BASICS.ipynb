{
 "cells": [
  {
   "cell_type": "markdown",
   "id": "de00908c",
   "metadata": {},
   "source": [
    "## SEABORN"
   ]
  },
  {
   "cell_type": "code",
   "execution_count": 1,
   "id": "545dc1ba",
   "metadata": {},
   "outputs": [],
   "source": [
    "import seaborn as sns"
   ]
  },
  {
   "cell_type": "code",
   "execution_count": 3,
   "id": "7e3508a4",
   "metadata": {},
   "outputs": [
    {
     "data": {
      "application/javascript": [
       "\n",
       "        if (window._pyforest_update_imports_cell) { window._pyforest_update_imports_cell('import pandas as pd'); }\n",
       "    "
      ],
      "text/plain": [
       "<IPython.core.display.Javascript object>"
      ]
     },
     "metadata": {},
     "output_type": "display_data"
    }
   ],
   "source": [
    "data = pd.read_csv('E:\\\\PYTHON CLASSES\\\\archive\\\\data.csv', header = 0)"
   ]
  },
  {
   "cell_type": "code",
   "execution_count": 5,
   "id": "c5945638",
   "metadata": {},
   "outputs": [
    {
     "data": {
      "text/html": [
       "<div>\n",
       "<style scoped>\n",
       "    .dataframe tbody tr th:only-of-type {\n",
       "        vertical-align: middle;\n",
       "    }\n",
       "\n",
       "    .dataframe tbody tr th {\n",
       "        vertical-align: top;\n",
       "    }\n",
       "\n",
       "    .dataframe thead th {\n",
       "        text-align: right;\n",
       "    }\n",
       "</style>\n",
       "<table border=\"1\" class=\"dataframe\">\n",
       "  <thead>\n",
       "    <tr style=\"text-align: right;\">\n",
       "      <th></th>\n",
       "      <th>Unnamed: 0</th>\n",
       "      <th>company</th>\n",
       "      <th>department</th>\n",
       "      <th>employee_id</th>\n",
       "      <th>age</th>\n",
       "      <th>age_when_joined</th>\n",
       "      <th>years_in_the_company</th>\n",
       "      <th>salary</th>\n",
       "      <th>annual_bonus</th>\n",
       "      <th>prior_years_experience</th>\n",
       "      <th>full_time</th>\n",
       "      <th>part_time</th>\n",
       "      <th>contractor</th>\n",
       "    </tr>\n",
       "  </thead>\n",
       "  <tbody>\n",
       "    <tr>\n",
       "      <th>0</th>\n",
       "      <td>0</td>\n",
       "      <td>Glasses</td>\n",
       "      <td>BigData</td>\n",
       "      <td>16</td>\n",
       "      <td>41</td>\n",
       "      <td>38</td>\n",
       "      <td>3</td>\n",
       "      <td>68074.971354</td>\n",
       "      <td>17664.104103</td>\n",
       "      <td>3</td>\n",
       "      <td>0.000000</td>\n",
       "      <td>0.000000</td>\n",
       "      <td>1.000000</td>\n",
       "    </tr>\n",
       "    <tr>\n",
       "      <th>1</th>\n",
       "      <td>1</td>\n",
       "      <td>Glasses</td>\n",
       "      <td>AI</td>\n",
       "      <td>56</td>\n",
       "      <td>44</td>\n",
       "      <td>42</td>\n",
       "      <td>2</td>\n",
       "      <td>49092.147458</td>\n",
       "      <td>21551.141079</td>\n",
       "      <td>2</td>\n",
       "      <td>0.000000</td>\n",
       "      <td>0.184991</td>\n",
       "      <td>1.000000</td>\n",
       "    </tr>\n",
       "    <tr>\n",
       "      <th>2</th>\n",
       "      <td>2</td>\n",
       "      <td>Cheerper</td>\n",
       "      <td>Support</td>\n",
       "      <td>59</td>\n",
       "      <td>41</td>\n",
       "      <td>40</td>\n",
       "      <td>1</td>\n",
       "      <td>40000.000000</td>\n",
       "      <td>23698.878851</td>\n",
       "      <td>2</td>\n",
       "      <td>0.000000</td>\n",
       "      <td>0.919887</td>\n",
       "      <td>0.662706</td>\n",
       "    </tr>\n",
       "    <tr>\n",
       "      <th>3</th>\n",
       "      <td>3</td>\n",
       "      <td>Glasses</td>\n",
       "      <td>Design</td>\n",
       "      <td>40</td>\n",
       "      <td>39</td>\n",
       "      <td>32</td>\n",
       "      <td>7</td>\n",
       "      <td>108192.465506</td>\n",
       "      <td>21570.929657</td>\n",
       "      <td>1</td>\n",
       "      <td>0.930396</td>\n",
       "      <td>0.546206</td>\n",
       "      <td>0.000000</td>\n",
       "    </tr>\n",
       "    <tr>\n",
       "      <th>4</th>\n",
       "      <td>4</td>\n",
       "      <td>Glasses</td>\n",
       "      <td>Search Engine</td>\n",
       "      <td>47</td>\n",
       "      <td>30</td>\n",
       "      <td>22</td>\n",
       "      <td>9</td>\n",
       "      <td>71291.191132</td>\n",
       "      <td>21565.505715</td>\n",
       "      <td>2</td>\n",
       "      <td>0.525432</td>\n",
       "      <td>0.938412</td>\n",
       "      <td>0.000000</td>\n",
       "    </tr>\n",
       "    <tr>\n",
       "      <th>5</th>\n",
       "      <td>5</td>\n",
       "      <td>Cheerper</td>\n",
       "      <td>BigData</td>\n",
       "      <td>13</td>\n",
       "      <td>30</td>\n",
       "      <td>22</td>\n",
       "      <td>7</td>\n",
       "      <td>64959.786730</td>\n",
       "      <td>24792.910000</td>\n",
       "      <td>2</td>\n",
       "      <td>0.000000</td>\n",
       "      <td>0.695894</td>\n",
       "      <td>0.453828</td>\n",
       "    </tr>\n",
       "    <tr>\n",
       "      <th>6</th>\n",
       "      <td>6</td>\n",
       "      <td>Glasses</td>\n",
       "      <td>Design</td>\n",
       "      <td>34</td>\n",
       "      <td>30</td>\n",
       "      <td>22</td>\n",
       "      <td>7</td>\n",
       "      <td>82031.525059</td>\n",
       "      <td>24792.910000</td>\n",
       "      <td>1</td>\n",
       "      <td>0.661900</td>\n",
       "      <td>0.399305</td>\n",
       "      <td>0.000000</td>\n",
       "    </tr>\n",
       "    <tr>\n",
       "      <th>7</th>\n",
       "      <td>7</td>\n",
       "      <td>Glasses</td>\n",
       "      <td>Search Engine</td>\n",
       "      <td>53</td>\n",
       "      <td>35</td>\n",
       "      <td>30</td>\n",
       "      <td>5</td>\n",
       "      <td>40863.109898</td>\n",
       "      <td>9660.533707</td>\n",
       "      <td>4</td>\n",
       "      <td>0.101531</td>\n",
       "      <td>0.381798</td>\n",
       "      <td>0.516603</td>\n",
       "    </tr>\n",
       "    <tr>\n",
       "      <th>8</th>\n",
       "      <td>8</td>\n",
       "      <td>Cheerper</td>\n",
       "      <td>BigData</td>\n",
       "      <td>46</td>\n",
       "      <td>49</td>\n",
       "      <td>36</td>\n",
       "      <td>9</td>\n",
       "      <td>54725.126545</td>\n",
       "      <td>21663.427976</td>\n",
       "      <td>1</td>\n",
       "      <td>0.034129</td>\n",
       "      <td>1.000000</td>\n",
       "      <td>0.000000</td>\n",
       "    </tr>\n",
       "    <tr>\n",
       "      <th>9</th>\n",
       "      <td>9</td>\n",
       "      <td>Pear</td>\n",
       "      <td>Design</td>\n",
       "      <td>56</td>\n",
       "      <td>49</td>\n",
       "      <td>48</td>\n",
       "      <td>1</td>\n",
       "      <td>101687.756356</td>\n",
       "      <td>13825.944010</td>\n",
       "      <td>4</td>\n",
       "      <td>0.665749</td>\n",
       "      <td>0.000000</td>\n",
       "      <td>0.632176</td>\n",
       "    </tr>\n",
       "  </tbody>\n",
       "</table>\n",
       "</div>"
      ],
      "text/plain": [
       "   Unnamed: 0   company     department  employee_id  age  age_when_joined  \\\n",
       "0           0   Glasses        BigData           16   41               38   \n",
       "1           1   Glasses             AI           56   44               42   \n",
       "2           2  Cheerper        Support           59   41               40   \n",
       "3           3   Glasses         Design           40   39               32   \n",
       "4           4   Glasses  Search Engine           47   30               22   \n",
       "5           5  Cheerper        BigData           13   30               22   \n",
       "6           6   Glasses         Design           34   30               22   \n",
       "7           7   Glasses  Search Engine           53   35               30   \n",
       "8           8  Cheerper        BigData           46   49               36   \n",
       "9           9      Pear         Design           56   49               48   \n",
       "\n",
       "   years_in_the_company         salary  annual_bonus  prior_years_experience  \\\n",
       "0                     3   68074.971354  17664.104103                       3   \n",
       "1                     2   49092.147458  21551.141079                       2   \n",
       "2                     1   40000.000000  23698.878851                       2   \n",
       "3                     7  108192.465506  21570.929657                       1   \n",
       "4                     9   71291.191132  21565.505715                       2   \n",
       "5                     7   64959.786730  24792.910000                       2   \n",
       "6                     7   82031.525059  24792.910000                       1   \n",
       "7                     5   40863.109898   9660.533707                       4   \n",
       "8                     9   54725.126545  21663.427976                       1   \n",
       "9                     1  101687.756356  13825.944010                       4   \n",
       "\n",
       "   full_time  part_time  contractor  \n",
       "0   0.000000   0.000000    1.000000  \n",
       "1   0.000000   0.184991    1.000000  \n",
       "2   0.000000   0.919887    0.662706  \n",
       "3   0.930396   0.546206    0.000000  \n",
       "4   0.525432   0.938412    0.000000  \n",
       "5   0.000000   0.695894    0.453828  \n",
       "6   0.661900   0.399305    0.000000  \n",
       "7   0.101531   0.381798    0.516603  \n",
       "8   0.034129   1.000000    0.000000  \n",
       "9   0.665749   0.000000    0.632176  "
      ]
     },
     "execution_count": 5,
     "metadata": {},
     "output_type": "execute_result"
    }
   ],
   "source": [
    "data.head(10)"
   ]
  },
  {
   "cell_type": "code",
   "execution_count": 6,
   "id": "79ad46d7",
   "metadata": {},
   "outputs": [
    {
     "data": {
      "application/javascript": [
       "\n",
       "        if (window._pyforest_update_imports_cell) { window._pyforest_update_imports_cell('import pandas as pd'); }\n",
       "    "
      ],
      "text/plain": [
       "<IPython.core.display.Javascript object>"
      ]
     },
     "metadata": {},
     "output_type": "display_data"
    }
   ],
   "source": [
    "data2 = pd.read_csv('E:\\\\PYTHON CLASSES\\\\archive\\\\data.csv', header = 0)"
   ]
  },
  {
   "cell_type": "code",
   "execution_count": 7,
   "id": "1af5db20",
   "metadata": {},
   "outputs": [
    {
     "data": {
      "text/html": [
       "<div>\n",
       "<style scoped>\n",
       "    .dataframe tbody tr th:only-of-type {\n",
       "        vertical-align: middle;\n",
       "    }\n",
       "\n",
       "    .dataframe tbody tr th {\n",
       "        vertical-align: top;\n",
       "    }\n",
       "\n",
       "    .dataframe thead th {\n",
       "        text-align: right;\n",
       "    }\n",
       "</style>\n",
       "<table border=\"1\" class=\"dataframe\">\n",
       "  <thead>\n",
       "    <tr style=\"text-align: right;\">\n",
       "      <th></th>\n",
       "      <th>Unnamed: 0</th>\n",
       "      <th>company</th>\n",
       "      <th>department</th>\n",
       "      <th>employee_id</th>\n",
       "      <th>age</th>\n",
       "      <th>age_when_joined</th>\n",
       "      <th>years_in_the_company</th>\n",
       "      <th>salary</th>\n",
       "      <th>annual_bonus</th>\n",
       "      <th>prior_years_experience</th>\n",
       "      <th>full_time</th>\n",
       "      <th>part_time</th>\n",
       "      <th>contractor</th>\n",
       "    </tr>\n",
       "  </thead>\n",
       "  <tbody>\n",
       "    <tr>\n",
       "      <th>0</th>\n",
       "      <td>0</td>\n",
       "      <td>Glasses</td>\n",
       "      <td>BigData</td>\n",
       "      <td>16</td>\n",
       "      <td>41</td>\n",
       "      <td>38</td>\n",
       "      <td>3</td>\n",
       "      <td>68074.971354</td>\n",
       "      <td>17664.104103</td>\n",
       "      <td>3</td>\n",
       "      <td>0.000000</td>\n",
       "      <td>0.000000</td>\n",
       "      <td>1.000000</td>\n",
       "    </tr>\n",
       "    <tr>\n",
       "      <th>1</th>\n",
       "      <td>1</td>\n",
       "      <td>Glasses</td>\n",
       "      <td>AI</td>\n",
       "      <td>56</td>\n",
       "      <td>44</td>\n",
       "      <td>42</td>\n",
       "      <td>2</td>\n",
       "      <td>49092.147458</td>\n",
       "      <td>21551.141079</td>\n",
       "      <td>2</td>\n",
       "      <td>0.000000</td>\n",
       "      <td>0.184991</td>\n",
       "      <td>1.000000</td>\n",
       "    </tr>\n",
       "    <tr>\n",
       "      <th>2</th>\n",
       "      <td>2</td>\n",
       "      <td>Cheerper</td>\n",
       "      <td>Support</td>\n",
       "      <td>59</td>\n",
       "      <td>41</td>\n",
       "      <td>40</td>\n",
       "      <td>1</td>\n",
       "      <td>40000.000000</td>\n",
       "      <td>23698.878851</td>\n",
       "      <td>2</td>\n",
       "      <td>0.000000</td>\n",
       "      <td>0.919887</td>\n",
       "      <td>0.662706</td>\n",
       "    </tr>\n",
       "    <tr>\n",
       "      <th>3</th>\n",
       "      <td>3</td>\n",
       "      <td>Glasses</td>\n",
       "      <td>Design</td>\n",
       "      <td>40</td>\n",
       "      <td>39</td>\n",
       "      <td>32</td>\n",
       "      <td>7</td>\n",
       "      <td>108192.465506</td>\n",
       "      <td>21570.929657</td>\n",
       "      <td>1</td>\n",
       "      <td>0.930396</td>\n",
       "      <td>0.546206</td>\n",
       "      <td>0.000000</td>\n",
       "    </tr>\n",
       "    <tr>\n",
       "      <th>4</th>\n",
       "      <td>4</td>\n",
       "      <td>Glasses</td>\n",
       "      <td>Search Engine</td>\n",
       "      <td>47</td>\n",
       "      <td>30</td>\n",
       "      <td>22</td>\n",
       "      <td>9</td>\n",
       "      <td>71291.191132</td>\n",
       "      <td>21565.505715</td>\n",
       "      <td>2</td>\n",
       "      <td>0.525432</td>\n",
       "      <td>0.938412</td>\n",
       "      <td>0.000000</td>\n",
       "    </tr>\n",
       "  </tbody>\n",
       "</table>\n",
       "</div>"
      ],
      "text/plain": [
       "   Unnamed: 0   company     department  employee_id  age  age_when_joined  \\\n",
       "0           0   Glasses        BigData           16   41               38   \n",
       "1           1   Glasses             AI           56   44               42   \n",
       "2           2  Cheerper        Support           59   41               40   \n",
       "3           3   Glasses         Design           40   39               32   \n",
       "4           4   Glasses  Search Engine           47   30               22   \n",
       "\n",
       "   years_in_the_company         salary  annual_bonus  prior_years_experience  \\\n",
       "0                     3   68074.971354  17664.104103                       3   \n",
       "1                     2   49092.147458  21551.141079                       2   \n",
       "2                     1   40000.000000  23698.878851                       2   \n",
       "3                     7  108192.465506  21570.929657                       1   \n",
       "4                     9   71291.191132  21565.505715                       2   \n",
       "\n",
       "   full_time  part_time  contractor  \n",
       "0   0.000000   0.000000    1.000000  \n",
       "1   0.000000   0.184991    1.000000  \n",
       "2   0.000000   0.919887    0.662706  \n",
       "3   0.930396   0.546206    0.000000  \n",
       "4   0.525432   0.938412    0.000000  "
      ]
     },
     "execution_count": 7,
     "metadata": {},
     "output_type": "execute_result"
    }
   ],
   "source": [
    "data2.head()"
   ]
  },
  {
   "cell_type": "code",
   "execution_count": 15,
   "id": "82939435",
   "metadata": {},
   "outputs": [
    {
     "name": "stderr",
     "output_type": "stream",
     "text": [
      "C:\\Users\\RANGALA MAHESH\\anaconda3\\lib\\site-packages\\seaborn\\distributions.py:2619: FutureWarning: `distplot` is a deprecated function and will be removed in a future version. Please adapt your code to use either `displot` (a figure-level function with similar flexibility) or `histplot` (an axes-level function for histograms).\n",
      "  warnings.warn(msg, FutureWarning)\n"
     ]
    },
    {
     "data": {
      "text/plain": [
       "<AxesSubplot:xlabel='age', ylabel='Density'>"
      ]
     },
     "execution_count": 15,
     "metadata": {},
     "output_type": "execute_result"
    },
    {
     "data": {
      "image/png": "[encoded data removed]",
      "text/plain": [
       "<Figure size 432x288 with 1 Axes>"
      ]
     },
     "metadata": {
      "needs_background": "light"
     },
     "output_type": "display_data"
    }
   ],
   "source": [
    "sns.distplot(data2.age)"
   ]
  },
  {
   "cell_type": "code",
   "execution_count": 16,
   "id": "48b016eb",
   "metadata": {},
   "outputs": [
    {
     "name": "stderr",
     "output_type": "stream",
     "text": [
      "C:\\Users\\RANGALA MAHESH\\anaconda3\\lib\\site-packages\\seaborn\\distributions.py:2619: FutureWarning: `distplot` is a deprecated function and will be removed in a future version. Please adapt your code to use either `displot` (a figure-level function with similar flexibility) or `histplot` (an axes-level function for histograms).\n",
      "  warnings.warn(msg, FutureWarning)\n"
     ]
    },
    {
     "data": {
      "text/plain": [
       "<AxesSubplot:xlabel='age'>"
      ]
     },
     "execution_count": 16,
     "metadata": {},
     "output_type": "execute_result"
    },
    {
     "data": {
      "image/png": "[encoded data removed]",
      "text/plain": [
       "<Figure size 432x288 with 1 Axes>"
      ]
     },
     "metadata": {
      "needs_background": "light"
     },
     "output_type": "display_data"
    }
   ],
   "source": [
    "sns.distplot(data2.age, kde = False)"
   ]
  },
  {
   "cell_type": "code",
   "execution_count": 18,
   "id": "36e4372b",
   "metadata": {},
   "outputs": [
    {
     "name": "stderr",
     "output_type": "stream",
     "text": [
      "C:\\Users\\RANGALA MAHESH\\anaconda3\\lib\\site-packages\\seaborn\\distributions.py:2619: FutureWarning: `distplot` is a deprecated function and will be removed in a future version. Please adapt your code to use either `displot` (a figure-level function with similar flexibility) or `histplot` (an axes-level function for histograms).\n",
      "  warnings.warn(msg, FutureWarning)\n"
     ]
    },
    {
     "data": {
      "text/plain": [
       "<AxesSubplot:xlabel='age'>"
      ]
     },
     "execution_count": 18,
     "metadata": {},
     "output_type": "execute_result"
    },
    {
     "data": {
      "image/png": "[encoded data removed]",
      "text/plain": [
       "<Figure size 432x288 with 1 Axes>"
      ]
     },
     "metadata": {
      "needs_background": "light"
     },
     "output_type": "display_data"
    }
   ],
   "source": [
    "sns.distplot(data2.age, kde = False, color=\"red\")"
   ]
  },
  {
   "cell_type": "code",
   "execution_count": 3,
   "id": "44de016d",
   "metadata": {},
   "outputs": [
    {
     "data": {
      "application/javascript": [
       "\n",
       "        if (window._pyforest_update_imports_cell) { window._pyforest_update_imports_cell('import seaborn as sns'); }\n",
       "    "
      ],
      "text/plain": [
       "<IPython.core.display.Javascript object>"
      ]
     },
     "metadata": {},
     "output_type": "display_data"
    }
   ],
   "source": [
    "iris = sns.load_dataset(\"iris\")"
   ]
  },
  {
   "cell_type": "code",
   "execution_count": 4,
   "id": "e85a07f0",
   "metadata": {},
   "outputs": [
    {
     "data": {
      "text/html": [
       "<div>\n",
       "<style scoped>\n",
       "    .dataframe tbody tr th:only-of-type {\n",
       "        vertical-align: middle;\n",
       "    }\n",
       "\n",
       "    .dataframe tbody tr th {\n",
       "        vertical-align: top;\n",
       "    }\n",
       "\n",
       "    .dataframe thead th {\n",
       "        text-align: right;\n",
       "    }\n",
       "</style>\n",
       "<table border=\"1\" class=\"dataframe\">\n",
       "  <thead>\n",
       "    <tr style=\"text-align: right;\">\n",
       "      <th></th>\n",
       "      <th>sepal_length</th>\n",
       "      <th>sepal_width</th>\n",
       "      <th>petal_length</th>\n",
       "      <th>petal_width</th>\n",
       "      <th>species</th>\n",
       "    </tr>\n",
       "  </thead>\n",
       "  <tbody>\n",
       "    <tr>\n",
       "      <th>0</th>\n",
       "      <td>5.1</td>\n",
       "      <td>3.5</td>\n",
       "      <td>1.4</td>\n",
       "      <td>0.2</td>\n",
       "      <td>setosa</td>\n",
       "    </tr>\n",
       "    <tr>\n",
       "      <th>1</th>\n",
       "      <td>4.9</td>\n",
       "      <td>3.0</td>\n",
       "      <td>1.4</td>\n",
       "      <td>0.2</td>\n",
       "      <td>setosa</td>\n",
       "    </tr>\n",
       "    <tr>\n",
       "      <th>2</th>\n",
       "      <td>4.7</td>\n",
       "      <td>3.2</td>\n",
       "      <td>1.3</td>\n",
       "      <td>0.2</td>\n",
       "      <td>setosa</td>\n",
       "    </tr>\n",
       "    <tr>\n",
       "      <th>3</th>\n",
       "      <td>4.6</td>\n",
       "      <td>3.1</td>\n",
       "      <td>1.5</td>\n",
       "      <td>0.2</td>\n",
       "      <td>setosa</td>\n",
       "    </tr>\n",
       "    <tr>\n",
       "      <th>4</th>\n",
       "      <td>5.0</td>\n",
       "      <td>3.6</td>\n",
       "      <td>1.4</td>\n",
       "      <td>0.2</td>\n",
       "      <td>setosa</td>\n",
       "    </tr>\n",
       "  </tbody>\n",
       "</table>\n",
       "</div>"
      ],
      "text/plain": [
       "   sepal_length  sepal_width  petal_length  petal_width species\n",
       "0           5.1          3.5           1.4          0.2  setosa\n",
       "1           4.9          3.0           1.4          0.2  setosa\n",
       "2           4.7          3.2           1.3          0.2  setosa\n",
       "3           4.6          3.1           1.5          0.2  setosa\n",
       "4           5.0          3.6           1.4          0.2  setosa"
      ]
     },
     "execution_count": 4,
     "metadata": {},
     "output_type": "execute_result"
    }
   ],
   "source": [
    "iris.head()"
   ]
  },
  {
   "cell_type": "code",
   "execution_count": 5,
   "id": "d64f4f8c",
   "metadata": {},
   "outputs": [
    {
     "data": {
      "text/plain": [
       "(150, 5)"
      ]
     },
     "execution_count": 5,
     "metadata": {},
     "output_type": "execute_result"
    }
   ],
   "source": [
    "iris.shape"
   ]
  },
  {
   "cell_type": "code",
   "execution_count": 6,
   "id": "a3757567",
   "metadata": {},
   "outputs": [
    {
     "data": {
      "text/html": [
       "<div>\n",
       "<style scoped>\n",
       "    .dataframe tbody tr th:only-of-type {\n",
       "        vertical-align: middle;\n",
       "    }\n",
       "\n",
       "    .dataframe tbody tr th {\n",
       "        vertical-align: top;\n",
       "    }\n",
       "\n",
       "    .dataframe thead th {\n",
       "        text-align: right;\n",
       "    }\n",
       "</style>\n",
       "<table border=\"1\" class=\"dataframe\">\n",
       "  <thead>\n",
       "    <tr style=\"text-align: right;\">\n",
       "      <th></th>\n",
       "      <th>sepal_length</th>\n",
       "      <th>sepal_width</th>\n",
       "      <th>petal_length</th>\n",
       "      <th>petal_width</th>\n",
       "    </tr>\n",
       "  </thead>\n",
       "  <tbody>\n",
       "    <tr>\n",
       "      <th>count</th>\n",
       "      <td>150.000000</td>\n",
       "      <td>150.000000</td>\n",
       "      <td>150.000000</td>\n",
       "      <td>150.000000</td>\n",
       "    </tr>\n",
       "    <tr>\n",
       "      <th>mean</th>\n",
       "      <td>5.843333</td>\n",
       "      <td>3.057333</td>\n",
       "      <td>3.758000</td>\n",
       "      <td>1.199333</td>\n",
       "    </tr>\n",
       "    <tr>\n",
       "      <th>std</th>\n",
       "      <td>0.828066</td>\n",
       "      <td>0.435866</td>\n",
       "      <td>1.765298</td>\n",
       "      <td>0.762238</td>\n",
       "    </tr>\n",
       "    <tr>\n",
       "      <th>min</th>\n",
       "      <td>4.300000</td>\n",
       "      <td>2.000000</td>\n",
       "      <td>1.000000</td>\n",
       "      <td>0.100000</td>\n",
       "    </tr>\n",
       "    <tr>\n",
       "      <th>25%</th>\n",
       "      <td>5.100000</td>\n",
       "      <td>2.800000</td>\n",
       "      <td>1.600000</td>\n",
       "      <td>0.300000</td>\n",
       "    </tr>\n",
       "    <tr>\n",
       "      <th>50%</th>\n",
       "      <td>5.800000</td>\n",
       "      <td>3.000000</td>\n",
       "      <td>4.350000</td>\n",
       "      <td>1.300000</td>\n",
       "    </tr>\n",
       "    <tr>\n",
       "      <th>75%</th>\n",
       "      <td>6.400000</td>\n",
       "      <td>3.300000</td>\n",
       "      <td>5.100000</td>\n",
       "      <td>1.800000</td>\n",
       "    </tr>\n",
       "    <tr>\n",
       "      <th>max</th>\n",
       "      <td>7.900000</td>\n",
       "      <td>4.400000</td>\n",
       "      <td>6.900000</td>\n",
       "      <td>2.500000</td>\n",
       "    </tr>\n",
       "  </tbody>\n",
       "</table>\n",
       "</div>"
      ],
      "text/plain": [
       "       sepal_length  sepal_width  petal_length  petal_width\n",
       "count    150.000000   150.000000    150.000000   150.000000\n",
       "mean       5.843333     3.057333      3.758000     1.199333\n",
       "std        0.828066     0.435866      1.765298     0.762238\n",
       "min        4.300000     2.000000      1.000000     0.100000\n",
       "25%        5.100000     2.800000      1.600000     0.300000\n",
       "50%        5.800000     3.000000      4.350000     1.300000\n",
       "75%        6.400000     3.300000      5.100000     1.800000\n",
       "max        7.900000     4.400000      6.900000     2.500000"
      ]
     },
     "execution_count": 6,
     "metadata": {},
     "output_type": "execute_result"
    }
   ],
   "source": [
    "iris.describe()"
   ]
  },
  {
   "cell_type": "code",
   "execution_count": 7,
   "id": "7553ae94",
   "metadata": {},
   "outputs": [
    {
     "data": {
      "application/javascript": [
       "\n",
       "        if (window._pyforest_update_imports_cell) { window._pyforest_update_imports_cell('import seaborn as sns'); }\n",
       "    "
      ],
      "text/plain": [
       "<IPython.core.display.Javascript object>"
      ]
     },
     "metadata": {},
     "output_type": "display_data"
    },
    {
     "data": {
      "text/plain": [
       "<seaborn.axisgrid.JointGrid at 0x2024940aa30>"
      ]
     },
     "execution_count": 7,
     "metadata": {},
     "output_type": "execute_result"
    },
    {
     "data": {
      "image/png": "[encoded data removed]",
      "text/plain": [
       "<Figure size 432x432 with 3 Axes>"
      ]
     },
     "metadata": {
      "needs_background": "light"
     },
     "output_type": "display_data"
    }
   ],
   "source": [
    "sns.jointplot(x=\"sepal_length\", y=\"sepal_width\", data= iris)"
   ]
  },
  {
   "cell_type": "code",
   "execution_count": null,
   "id": "0650409f",
   "metadata": {},
   "outputs": [],
   "source": []
  }
 ],
 "metadata": {
  "kernelspec": {
   "display_name": "Python 3 (ipykernel)",
   "language": "python",
   "name": "python3"
  },
  "language_info": {
   "codemirror_mode": {
    "name": "ipython",
    "version": 3
   },
   "file_extension": ".py",
   "mimetype": "text/x-python",
   "name": "python",
   "nbconvert_exporter": "python",
   "pygments_lexer": "ipython3",
   "version": "3.9.12"
  }
 },
 "nbformat": 4,
 "nbformat_minor": 5
}
